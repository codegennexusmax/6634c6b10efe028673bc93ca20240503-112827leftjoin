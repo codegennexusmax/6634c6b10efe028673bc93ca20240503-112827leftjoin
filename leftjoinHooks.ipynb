{
 "cells": [
  {
   "cell_type": "markdown",
   "id": "9f723319",
   "metadata": {},
   "source": [
    "***EXTENSIONS FOR leftjoin PIPELINE YOU CAN EDIT THESE EXTENSIONS***"
   ]
  },
  {
   "cell_type": "markdown",
   "id": "1992092c",
   "metadata": {},
   "source": [
    "***EXTENSIONS FOR SOURCE STAGE***"
   ]
  },
  {
   "cell_type": "code",
   "execution_count": null,
   "id": "6b6f31d7",
   "metadata": {},
   "outputs": [],
   "source": [
    "def sourcePreExecutionHook():\n",
    "\tprint('inside source pre execution hook')\n",
    "\n",
    "\n",
    "def sourcePostExecutionHook(data):\n",
    "\tprint('inside source post execution hook')\n",
    "\n",
    "\n"
   ]
  },
  {
   "cell_type": "markdown",
   "id": "75430743",
   "metadata": {},
   "source": [
    "***EXTENSIONS FOR OPERATION STAGE***"
   ]
  },
  {
   "cell_type": "code",
   "execution_count": null,
   "id": "710428d0",
   "metadata": {},
   "outputs": [],
   "source": [
    "def operationPreExecutionHook():\n",
    "\tprint('inside operation pre execution hook')\n",
    "\n",
    "\n",
    "def operationPostExecutionHook(data):\n",
    "\tprint('inside operation post execution hook')\n",
    "\n",
    "\n"
   ]
  },
  {
   "cell_type": "markdown",
   "id": "f51a5fec",
   "metadata": {},
   "source": [
    "***EXTENSIONS FOR SINK STAGE***"
   ]
  },
  {
   "cell_type": "code",
   "execution_count": null,
   "id": "83b322d2",
   "metadata": {},
   "outputs": [],
   "source": [
    "def sinkPreExecutionHook():\n",
    "\tprint('inside sink pre execution hook')\n",
    "\n",
    "\n",
    "def sinkPostExecutionHook(data):\n",
    "\tprint('inside sink post execution hook')\n",
    "\n",
    "\n"
   ]
  }
 ],
 "metadata": {},
 "nbformat": 4,
 "nbformat_minor": 5
}
