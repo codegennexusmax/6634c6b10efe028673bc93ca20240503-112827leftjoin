{
 "cells": [
  {
   "cell_type": "markdown",
   "id": "c08fa4c7",
   "metadata": {},
   "source": [
    "***GENERATED CODE FOR leftjoin PIPELINE.***"
   ]
  },
  {
   "cell_type": "markdown",
   "id": "cd6a1be9",
   "metadata": {},
   "source": [
    "***DON'T EDIT THIS CODE.***"
   ]
  },
  {
   "cell_type": "markdown",
   "id": "2e6a6ea7",
   "metadata": {},
   "source": [
    "***CONNECTOR FUNCTIONS TO READ DATA.***"
   ]
  },
  {
   "cell_type": "code",
   "execution_count": null,
   "id": "69a27bd8",
   "metadata": {},
   "outputs": [],
   "source": [
    "import os\n",
    "import datetime\n",
    "import logging\n",
    "import warnings\n",
    "warnings.filterwarnings('ignore')\n",
    "logging.basicConfig(format='%(levelname)s:%(message)s', level=logging.INFO)\n",
    "\n",
    "\n",
    "class HDFSConnector:\n",
    "\n",
    "    def fetch(spark, config):\n",
    "        ################### INPUT HADOOP HOST PORT TO CONNECT WITH ###############################\n",
    "        hdfs_server = str(os.environ['HDFS_SERVER'])\n",
    "        hdfs_port = int(os.environ['HDFS_PORT'])\n",
    "        df = spark.read.options(header='true', inferschema='true').csv(\n",
    "            f\"hdfs://{hdfs_server}:{hdfs_port}{eval(config)['url']}\", header='true')\n",
    "        display(df.limit(2).toPandas())\n",
    "        return df\n",
    "\n",
    "    def put(df, spark, config):\n",
    "        return df.write.format('csv').options(header='true' if eval(config)[\"is_header\"] == \"Use Header Line\" else 'false',\n",
    "                                              delimiter=eval(config)[\"delimiter\"]).save((\"%s %s\") % (datetime.datetime.now().strftime(\"%Y-%m-%d %H.%M.%S\")+\"_\", eval(config)['url']))\n"
   ]
  },
  {
   "cell_type": "markdown",
   "id": "e59a882b",
   "metadata": {},
   "source": [
    "***OPERATION FUNCTIONS***"
   ]
  },
  {
   "cell_type": "code",
   "execution_count": null,
   "id": "3b40a10d",
   "metadata": {},
   "outputs": [],
   "source": [
    "\n",
    "\n",
    "def QueryEditor(spark, joindataobj):\n",
    "    for source in joindataobj[\"sourcesForQuery\"]:\n",
    "        sourcename = source['sourcename']\n",
    "        source['sourcename'] = spark.read.options(header='true', inferschema='true', delimiter=',')\\\n",
    "            .csv('dbfs:' + source['sourcepath'])\n",
    "        source['sourcename'].createOrReplaceTempView(sourcename)\n",
    "    joinedDf = spark.sql(joindataobj['querytext'])\n",
    "    df = removeIfDuplicates(joinedDf)\n",
    "    print(display(df.limit(2).toPandas()))\n",
    "    return df\n",
    "\n",
    "\n",
    "def removeIfDuplicates(joinedDf):\n",
    "    cols_new = []\n",
    "    seen = set()\n",
    "    for c in joinedDf.columns:\n",
    "        cols_new.append('{}_dup'.format(c) if c in seen else c)\n",
    "        seen.add(c)\n",
    "    df = joinedDf.toDF(*cols_new).select(*\n",
    "                                         [c for c in cols_new if not c.endswith('_dup')])\n",
    "    return df\n"
   ]
  },
  {
   "cell_type": "markdown",
   "id": "36ee4f22",
   "metadata": {},
   "source": [
    "***CONNECTOR FUNCTIONS TO WRITE DATA.***"
   ]
  },
  {
   "cell_type": "code",
   "execution_count": null,
   "id": "a4638a9f",
   "metadata": {},
   "outputs": [],
   "source": [
    "import datetime\n",
    "import requests\n",
    "import datetime\n",
    "import logging\n",
    "import warnings\n",
    "warnings.filterwarnings('ignore')\n",
    "logging.basicConfig(format='%(levelname)s:%(message)s', level=logging.INFO)\n",
    "\n",
    "\n",
    "class NumtraConnector:\n",
    "\n",
    "    def put(inStages, inStagesData, stageId, spark, config):\n",
    "        path = eval(config)['server_url']\n",
    "        baseType = eval(config)['baseType']\n",
    "        results_url = eval(config)['results_url']\n",
    "        server = eval(config)['server']\n",
    "        originalfile = eval(config)['orignalKey']\n",
    "        eval(config)['pathOnly']\n",
    "        filename = eval(config)['filename']\n",
    "        eval(config)['ser']\n",
    "        eval(config)['user']\n",
    "        eval(config)['password']\n",
    "        eval(config)['authSource']\n",
    "        eval(config)['user_id']\n",
    "        eval(config)['parent_id']\n",
    "        eval(config)['project_id']\n",
    "        time = str(int(datetime.datetime.now().timestamp()))\n",
    "\n",
    "        inStagesData[inStages[0]]\n",
    "\n",
    "        print(path)\n",
    "        print(baseType)\n",
    "        print(results_url)\n",
    "        print(server)\n",
    "        print(originalfile)\n",
    "        print(filename)\n",
    "\n",
    "        args = {\n",
    "            'url': path,\n",
    "            'baseType': baseType,\n",
    "            'originalfile': originalfile,\n",
    "            'filename': time + filename\n",
    "        }\n",
    "\n",
    "        response = requests.post(results_url, args)\n",
    "        return response\n"
   ]
  },
  {
   "cell_type": "markdown",
   "id": "26506409",
   "metadata": {},
   "source": [
    "***READING DATAFRAME***"
   ]
  },
  {
   "cell_type": "code",
   "execution_count": null,
   "id": "6f420593",
   "metadata": {},
   "outputs": [],
   "source": [
    "############## CREATE SPARK SESSION ############################ ENTER YOUR SPARK MASTER IP AND PORT TO CONNECT TO SERVER ################\n",
    "from pyspark.sql import SparkSession\n",
    "spark = SparkSession.builder.master('local[1]').getOrCreate()\n",
    "#%run leftjoinHooks.ipynb\n",
    "try:\n",
    "\t#sourcePreExecutionHook()\n",
    "\t\theartfailurep = HDFSConnector.fetch(spark, \"{'url': '/FileStore/platform/testdata/1714634096121_HeartFailureP4.csv', 'FilePath': '/Khalid/dataFolder/join_test/HeartFailureP4.csv', 'delimiter': ',', 'file_type': 'Delimeted', 'filename': 'HeartFailureP4.csv', 'viewFileName': 'HeartFailureP4.csv', 'is_header': 'Use Header Line', 'server_url': '/nexusMax/NexusMaxPlatform/uploads/platform/'}\")\n",
    "\n",
    "\n",
    "\n",
    "\theartfailurep = HDFSConnector.fetch(spark, \"{'url': '/FileStore/platform/testdata/1714634096384_HeartFailureP3.csv', 'FilePath': '/Khalid/dataFolder/join_test/HeartFailureP3.csv', 'delimiter': ',', 'file_type': 'Delimeted', 'filename': 'HeartFailureP3.csv', 'viewFileName': 'HeartFailureP3.csv', 'is_header': 'Use Header Line', 'server_url': '/nexusMax/NexusMaxPlatform/uploads/platform/', 'results_url': 'http://dnm.bfirst.ai:44040/api/read/hdfs'}\")\n",
    "\n",
    "except Exception as ex: \n",
    "\tlogging.error(ex)\n",
    "#spark.stop()\n"
   ]
  },
  {
   "cell_type": "markdown",
   "id": "e3ae2397",
   "metadata": {},
   "source": [
    "***PERFORMING OPERATIONS***"
   ]
  },
  {
   "cell_type": "code",
   "execution_count": null,
   "id": "08d17df8",
   "metadata": {},
   "outputs": [],
   "source": [
    "#%run leftjoinHooks.ipynb\n",
    "try:\n",
    "\t#operationPreExecutionHook()\n",
    "\n",
    "\tjoin = QueryEditor(spark, {\"querytext\": \"select * from heartfailurep3 left join heartfailurep4 on heartfailurep3.age=heartfailurep4.age\", \"sourcesForQuery\": [{\"sourcename\": \"heartfailurep3\", \"sourceinfo\": {\"source\": \"hdfs\", \"sourceAttributes\": {\"url\": \"/FileStore/platform/testdata/1714634096384_HeartFailureP3.csv\"}}, \"sourceid\": \"6634c6bd0efe028673bc93dc\"}, {\"sourcename\": \"heartfailurep4\", \"sourceinfo\": {\"source\": \"hdfs\", \"sourceAttributes\": {\"url\": \"/FileStore/platform/testdata/1714634096121_HeartFailureP4.csv\"}}, \"sourceid\": \"6634c6bf0efe028673bc93e4\"}], \"fieldsForQuery\": [{\"sourcename\": \"heartfailurep3\", \"fieldname\": \"age\"}, {\"sourcename\": \"heartfailurep4\", \"fieldname\": \"age\"}]})\n",
    "\t#operationPostExecutionHook(join)\n",
    "\n",
    "except Exception as ex: \n",
    "\tlogging.error(ex)\n"
   ]
  },
  {
   "cell_type": "markdown",
   "id": "13f72ac0",
   "metadata": {},
   "source": [
    "***WRITING DATAFRAME***"
   ]
  },
  {
   "cell_type": "code",
   "execution_count": null,
   "id": "e4165c6a",
   "metadata": {},
   "outputs": [],
   "source": [
    "#%run leftjoinHooks.ipynb\n",
    "try:\n",
    "\t#sinkPreExecutionHook()\n",
    "\n",
    "\tjointestoutput = NumtraConnector.fetch(spark, \"{'samplefile': '/FileStore/platform/sampleData/6634c6bf0efe028673bc93e0JoinStage/part-00000-c517a74a-9b5f-45c5-9aa0-d4a8d1b403f2-c000.csv', 'samplecount': 66, 'originalcount': 66, 'orignalKey': None, 'pathOnly': '/Khalid/dataFolder/join_test', 'project_id': '6633387a03535a0bcb329098', 'parent_id': '6633387a03535a0bcb329098', 'original_schema': [{'checked': True, 'inherited': True, 'is_categorical': False, 'bad_values': '', 'nullable': 'true', '_id': '6634c8840efe028673bc9535', 'field': 'age', 'alias': 'age', 'position': '0'}, {'checked': True, 'inherited': True, 'is_categorical': False, 'bad_values': '', 'nullable': 'true', '_id': '6634c8840efe028673bc9536', 'field': 'anaemia', 'alias': 'anaemia', 'position': '1'}, {'checked': True, 'inherited': True, 'is_categorical': False, 'bad_values': '', 'nullable': 'true', '_id': '6634c8840efe028673bc9537', 'field': 'creatinine_phosphokinase', 'alias': 'creatinine_phosphokinase', 'position': '2'}, {'checked': True, 'inherited': True, 'is_categorical': False, 'bad_values': '', 'nullable': 'true', '_id': '6634c8840efe028673bc9538', 'field': 'diabetes', 'alias': 'diabetes', 'position': '3'}, {'checked': True, 'inherited': True, 'is_categorical': False, 'bad_values': '', 'nullable': 'true', '_id': '6634c8840efe028673bc9539', 'field': 'high_blood_pressure', 'alias': 'high_blood_pressure', 'position': '4'}, {'checked': True, 'inherited': True, 'is_categorical': False, 'bad_values': '', 'nullable': 'true', '_id': '6634c8840efe028673bc953a', 'field': 'platelets', 'alias': 'platelets', 'position': '5'}, {'checked': True, 'inherited': True, 'is_categorical': False, 'bad_values': '', 'nullable': 'true', '_id': '6634c8840efe028673bc953b', 'field': 'smoking', 'alias': 'smoking', 'position': '6'}, {'checked': True, 'inherited': True, 'is_categorical': False, 'bad_values': '', 'nullable': 'true', '_id': '6634c8840efe028673bc953c', 'field': 'time', 'alias': 'time', 'position': '7'}, {'checked': True, 'inherited': True, 'is_categorical': False, 'bad_values': '', 'nullable': 'true', '_id': '6634c8840efe028673bc953d', 'field': 'DEATH_EVENT', 'alias': 'DEATH_EVENT', 'position': '8'}], 'actual_schema': [{'checked': True, 'inherited': True, 'is_categorical': False, 'bad_values': '', 'nullable': 'true', '_id': '6634c8840efe028673bc952c', 'field': 'age', 'alias': 'age', 'type': 'numeric'}, {'checked': True, 'inherited': True, 'is_categorical': False, 'bad_values': '', 'nullable': 'true', '_id': '6634c8840efe028673bc952d', 'field': 'anaemia', 'alias': 'anaemia', 'type': 'numeric'}, {'checked': True, 'inherited': True, 'is_categorical': False, 'bad_values': '', 'nullable': 'true', '_id': '6634c8840efe028673bc952e', 'field': 'creatinine_phosphokinase', 'alias': 'creatinine_phosphokinase', 'type': 'numeric'}, {'checked': True, 'inherited': True, 'is_categorical': False, 'bad_values': '', 'nullable': 'true', '_id': '6634c8840efe028673bc952f', 'field': 'diabetes', 'alias': 'diabetes', 'type': 'numeric'}, {'checked': True, 'inherited': True, 'is_categorical': False, 'bad_values': '', 'nullable': 'true', '_id': '6634c8840efe028673bc9530', 'field': 'high_blood_pressure', 'alias': 'high_blood_pressure', 'type': 'numeric'}, {'checked': True, 'inherited': True, 'is_categorical': False, 'bad_values': '', 'nullable': 'true', '_id': '6634c8840efe028673bc9531', 'field': 'platelets', 'alias': 'platelets', 'type': 'real'}, {'checked': True, 'inherited': True, 'is_categorical': False, 'bad_values': '', 'nullable': 'true', '_id': '6634c8840efe028673bc9532', 'field': 'smoking', 'alias': 'smoking', 'type': 'numeric'}, {'checked': True, 'inherited': True, 'is_categorical': False, 'bad_values': '', 'nullable': 'true', '_id': '6634c8840efe028673bc9533', 'field': 'time', 'alias': 'time', 'type': 'numeric'}, {'checked': True, 'inherited': True, 'is_categorical': False, 'bad_values': '', 'nullable': 'true', '_id': '6634c8840efe028673bc9534', 'field': 'DEATH_EVENT', 'alias': 'DEATH_EVENT', 'type': 'numeric'}], 'server': 'https://dnm.bfirst.ai:443', 'server_url': '/nexusMax/NexusMaxPlatform/uploads/platform/', 'delimiter': ',', 'file_type': 'Delimeted', 'filename': 'leftjoin.csv', 'token': '', 'domain': '', 'is_header': 'Use Header Line', 'url': '/FileStore/platform/uploadedSourceFiles/part-00000-ac620fa6-b850-4fd1-b023-34cf6cb37803-c000.csv', 'results_url': 'http://dnm.bfirst.ai:44040/api/read/hdfs'}\")\n",
    "\n",
    "except Exception as ex: \n",
    "\tlogging.error(ex)\n"
   ]
  }
 ],
 "metadata": {},
 "nbformat": 4,
 "nbformat_minor": 5
}
